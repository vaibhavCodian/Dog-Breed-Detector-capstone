{
  "nbformat": 4,
  "nbformat_minor": 0,
  "metadata": {
    "colab": {
      "name": "dog_breed_tf_lite.ipynb",
      "provenance": [],
      "collapsed_sections": [],
      "machine_shape": "hm"
    },
    "kernelspec": {
      "name": "python3",
      "display_name": "Python 3"
    },
    "accelerator": "TPU"
  },
  "cells": [
    {
      "cell_type": "markdown",
      "metadata": {
        "id": "Mjoc_8zfcCam"
      },
      "source": [
        "# Dog breed classification using Tensorflow"
      ]
    },
    {
      "cell_type": "code",
      "metadata": {
        "id": "TgodH53C-10u"
      },
      "source": [
        "import tensorflow as tf\n",
        "assert tf.__version__.startswith('2')\n",
        "\n",
        "import os\n",
        "import numpy as np\n",
        "import matplotlib.pyplot as plt"
      ],
      "execution_count": 1,
      "outputs": []
    },
    {
      "cell_type": "code",
      "metadata": {
        "id": "RQk0WwvCAYW0",
        "colab": {
          "base_uri": "https://localhost:8080/",
          "height": 37
        },
        "outputId": "53f5b2e6-613d-4c3e-f4a4-b6b9326adef4"
      },
      "source": [
        "tf.__version__"
      ],
      "execution_count": 2,
      "outputs": [
        {
          "output_type": "execute_result",
          "data": {
            "application/vnd.google.colaboratory.intrinsic+json": {
              "type": "string"
            },
            "text/plain": [
              "'2.4.0'"
            ]
          },
          "metadata": {
            "tags": []
          },
          "execution_count": 2
        }
      ]
    },
    {
      "cell_type": "markdown",
      "metadata": {
        "id": "MI7pqxnQcNme"
      },
      "source": [
        "## Pipeline\n",
        "\n",
        "Path of the dataset"
      ]
    },
    {
      "cell_type": "code",
      "metadata": {
        "id": "QLh8wCLOjXsj",
        "colab": {
          "base_uri": "https://localhost:8080/"
        },
        "outputId": "a601babe-eedd-403d-819f-414fe7fa6f2a"
      },
      "source": [
        "from google.colab import drive\n",
        "drive.mount('/content/gdrive')"
      ],
      "execution_count": 3,
      "outputs": [
        {
          "output_type": "stream",
          "text": [
            "Mounted at /content/gdrive\n"
          ],
          "name": "stdout"
        }
      ]
    },
    {
      "cell_type": "code",
      "metadata": {
        "id": "UZnuGnYloPnb"
      },
      "source": [
        "# Check if all the images are at the correct location.\n",
        "\n",
        "# !ls gdrive/MyDrive/Datasets/DOG_BREED/images/Images/"
      ],
      "execution_count": 4,
      "outputs": []
    },
    {
      "cell_type": "code",
      "metadata": {
        "id": "6E5KEmt2jQZU"
      },
      "source": [
        "image_dir = '/content/gdrive/MyDrive/Datasets/DOG_BREED/images/Images'"
      ],
      "execution_count": 5,
      "outputs": []
    },
    {
      "cell_type": "markdown",
      "metadata": {
        "id": "DMnFgsIkcaWp"
      },
      "source": [
        "## Create Batches and Recsale the images.\n",
        "Using ImageDataGenerator to rescale images \n"
      ]
    },
    {
      "cell_type": "code",
      "metadata": {
        "id": "WE9CIgUjAZEw",
        "colab": {
          "base_uri": "https://localhost:8080/"
        },
        "outputId": "b22ddbc1-d4cd-43ba-aa25-e27b81d23d7b"
      },
      "source": [
        "IMAGE_SIZE = 224\n",
        "BATCH_SIZE = 64\n",
        "\n",
        "datagen = tf.keras.preprocessing.image.ImageDataGenerator(\n",
        "    rescale=1./255, \n",
        "    validation_split=0.2)\n",
        "\n",
        "train_generator = datagen.flow_from_directory(\n",
        "    image_dir,\n",
        "    target_size=(IMAGE_SIZE, IMAGE_SIZE),\n",
        "    batch_size=BATCH_SIZE, \n",
        "    subset='training')\n",
        "\n",
        "val_generator = datagen.flow_from_directory(\n",
        "    image_dir,\n",
        "    target_size=(IMAGE_SIZE, IMAGE_SIZE),\n",
        "    batch_size=BATCH_SIZE, \n",
        "    subset='validation')"
      ],
      "execution_count": 7,
      "outputs": [
        {
          "output_type": "stream",
          "text": [
            "Found 16541 images belonging to 120 classes.\n",
            "Found 4080 images belonging to 120 classes.\n"
          ],
          "name": "stdout"
        }
      ]
    },
    {
      "cell_type": "code",
      "metadata": {
        "id": "mlDUBSSyjPrG",
        "colab": {
          "base_uri": "https://localhost:8080/"
        },
        "outputId": "a8c070c8-ae03-47f0-b0ea-c2608f1ec0ff"
      },
      "source": [
        "# Checking the batch Shapes.\n",
        "for image_batch, label_batch in train_generator:\n",
        "  break\n",
        "image_batch.shape, label_batch.shape"
      ],
      "execution_count": 8,
      "outputs": [
        {
          "output_type": "execute_result",
          "data": {
            "text/plain": [
              "((64, 224, 224, 3), (64, 120))"
            ]
          },
          "metadata": {
            "tags": []
          },
          "execution_count": 8
        }
      ]
    },
    {
      "cell_type": "code",
      "metadata": {
        "id": "KF48TuxXjusz",
        "colab": {
          "base_uri": "https://localhost:8080/"
        },
        "outputId": "f41e2ce1-d170-40db-d5d9-ed084d9a2247"
      },
      "source": [
        "# getting all the labels from and pasting them into a labels file for further refrence.\n",
        "\n",
        "print (train_generator.class_indices)\n",
        "labels = '\\n'.join(sorted(train_generator.class_indices.keys()))\n",
        "\n",
        "with open('labels.txt', 'w') as f:\n",
        "  f.write(labels)"
      ],
      "execution_count": 9,
      "outputs": [
        {
          "output_type": "stream",
          "text": [
            "{'n02085620-Chihuahua': 0, 'n02085782-Japanese_spaniel': 1, 'n02085936-Maltese_dog': 2, 'n02086079-Pekinese': 3, 'n02086240-Shih-Tzu': 4, 'n02086646-Blenheim_spaniel': 5, 'n02086910-papillon': 6, 'n02087046-toy_terrier': 7, 'n02087394-Rhodesian_ridgeback': 8, 'n02088094-Afghan_hound': 9, 'n02088238-basset': 10, 'n02088364-beagle': 11, 'n02088466-bloodhound': 12, 'n02088632-bluetick': 13, 'n02089078-black-and-tan_coonhound': 14, 'n02089867-Walker_hound': 15, 'n02089973-English_foxhound': 16, 'n02090379-redbone': 17, 'n02090622-borzoi': 18, 'n02090721-Irish_wolfhound': 19, 'n02091032-Italian_greyhound': 20, 'n02091134-whippet': 21, 'n02091244-Ibizan_hound': 22, 'n02091467-Norwegian_elkhound': 23, 'n02091635-otterhound': 24, 'n02091831-Saluki': 25, 'n02092002-Scottish_deerhound': 26, 'n02092339-Weimaraner': 27, 'n02093256-Staffordshire_bullterrier': 28, 'n02093428-American_Staffordshire_terrier': 29, 'n02093647-Bedlington_terrier': 30, 'n02093754-Border_terrier': 31, 'n02093859-Kerry_blue_terrier': 32, 'n02093991-Irish_terrier': 33, 'n02094114-Norfolk_terrier': 34, 'n02094258-Norwich_terrier': 35, 'n02094433-Yorkshire_terrier': 36, 'n02095314-wire-haired_fox_terrier': 37, 'n02095570-Lakeland_terrier': 38, 'n02095889-Sealyham_terrier': 39, 'n02096051-Airedale': 40, 'n02096177-cairn': 41, 'n02096294-Australian_terrier': 42, 'n02096437-Dandie_Dinmont': 43, 'n02096585-Boston_bull': 44, 'n02097047-miniature_schnauzer': 45, 'n02097130-giant_schnauzer': 46, 'n02097209-standard_schnauzer': 47, 'n02097298-Scotch_terrier': 48, 'n02097474-Tibetan_terrier': 49, 'n02097658-silky_terrier': 50, 'n02098105-soft-coated_wheaten_terrier': 51, 'n02098286-West_Highland_white_terrier': 52, 'n02098413-Lhasa': 53, 'n02099267-flat-coated_retriever': 54, 'n02099429-curly-coated_retriever': 55, 'n02099601-golden_retriever': 56, 'n02099712-Labrador_retriever': 57, 'n02099849-Chesapeake_Bay_retriever': 58, 'n02100236-German_short-haired_pointer': 59, 'n02100583-vizsla': 60, 'n02100735-English_setter': 61, 'n02100877-Irish_setter': 62, 'n02101006-Gordon_setter': 63, 'n02101388-Brittany_spaniel': 64, 'n02101556-clumber': 65, 'n02102040-English_springer': 66, 'n02102177-Welsh_springer_spaniel': 67, 'n02102318-cocker_spaniel': 68, 'n02102480-Sussex_spaniel': 69, 'n02102973-Irish_water_spaniel': 70, 'n02104029-kuvasz': 71, 'n02104365-schipperke': 72, 'n02105056-groenendael': 73, 'n02105162-malinois': 74, 'n02105251-briard': 75, 'n02105412-kelpie': 76, 'n02105505-komondor': 77, 'n02105641-Old_English_sheepdog': 78, 'n02105855-Shetland_sheepdog': 79, 'n02106030-collie': 80, 'n02106166-Border_collie': 81, 'n02106382-Bouvier_des_Flandres': 82, 'n02106550-Rottweiler': 83, 'n02106662-German_shepherd': 84, 'n02107142-Doberman': 85, 'n02107312-miniature_pinscher': 86, 'n02107574-Greater_Swiss_Mountain_dog': 87, 'n02107683-Bernese_mountain_dog': 88, 'n02107908-Appenzeller': 89, 'n02108000-EntleBucher': 90, 'n02108089-boxer': 91, 'n02108422-bull_mastiff': 92, 'n02108551-Tibetan_mastiff': 93, 'n02108915-French_bulldog': 94, 'n02109047-Great_Dane': 95, 'n02109525-Saint_Bernard': 96, 'n02109961-Eskimo_dog': 97, 'n02110063-malamute': 98, 'n02110185-Siberian_husky': 99, 'n02110627-affenpinscher': 100, 'n02110806-basenji': 101, 'n02110958-pug': 102, 'n02111129-Leonberg': 103, 'n02111277-Newfoundland': 104, 'n02111500-Great_Pyrenees': 105, 'n02111889-Samoyed': 106, 'n02112018-Pomeranian': 107, 'n02112137-chow': 108, 'n02112350-keeshond': 109, 'n02112706-Brabancon_griffon': 110, 'n02113023-Pembroke': 111, 'n02113186-Cardigan': 112, 'n02113624-toy_poodle': 113, 'n02113712-miniature_poodle': 114, 'n02113799-standard_poodle': 115, 'n02113978-Mexican_hairless': 116, 'n02115641-dingo': 117, 'n02115913-dhole': 118, 'n02116738-African_hunting_dog': 119}\n"
          ],
          "name": "stdout"
        }
      ]
    },
    {
      "cell_type": "code",
      "metadata": {
        "id": "SILDqBygj2e6",
        "colab": {
          "base_uri": "https://localhost:8080/"
        },
        "outputId": "ffe968e3-2671-49be-ebf1-7f4140523fcd"
      },
      "source": [
        "!cat labels.txt"
      ],
      "execution_count": 10,
      "outputs": [
        {
          "output_type": "stream",
          "text": [
            "n02085620-Chihuahua\n",
            "n02085782-Japanese_spaniel\n",
            "n02085936-Maltese_dog\n",
            "n02086079-Pekinese\n",
            "n02086240-Shih-Tzu\n",
            "n02086646-Blenheim_spaniel\n",
            "n02086910-papillon\n",
            "n02087046-toy_terrier\n",
            "n02087394-Rhodesian_ridgeback\n",
            "n02088094-Afghan_hound\n",
            "n02088238-basset\n",
            "n02088364-beagle\n",
            "n02088466-bloodhound\n",
            "n02088632-bluetick\n",
            "n02089078-black-and-tan_coonhound\n",
            "n02089867-Walker_hound\n",
            "n02089973-English_foxhound\n",
            "n02090379-redbone\n",
            "n02090622-borzoi\n",
            "n02090721-Irish_wolfhound\n",
            "n02091032-Italian_greyhound\n",
            "n02091134-whippet\n",
            "n02091244-Ibizan_hound\n",
            "n02091467-Norwegian_elkhound\n",
            "n02091635-otterhound\n",
            "n02091831-Saluki\n",
            "n02092002-Scottish_deerhound\n",
            "n02092339-Weimaraner\n",
            "n02093256-Staffordshire_bullterrier\n",
            "n02093428-American_Staffordshire_terrier\n",
            "n02093647-Bedlington_terrier\n",
            "n02093754-Border_terrier\n",
            "n02093859-Kerry_blue_terrier\n",
            "n02093991-Irish_terrier\n",
            "n02094114-Norfolk_terrier\n",
            "n02094258-Norwich_terrier\n",
            "n02094433-Yorkshire_terrier\n",
            "n02095314-wire-haired_fox_terrier\n",
            "n02095570-Lakeland_terrier\n",
            "n02095889-Sealyham_terrier\n",
            "n02096051-Airedale\n",
            "n02096177-cairn\n",
            "n02096294-Australian_terrier\n",
            "n02096437-Dandie_Dinmont\n",
            "n02096585-Boston_bull\n",
            "n02097047-miniature_schnauzer\n",
            "n02097130-giant_schnauzer\n",
            "n02097209-standard_schnauzer\n",
            "n02097298-Scotch_terrier\n",
            "n02097474-Tibetan_terrier\n",
            "n02097658-silky_terrier\n",
            "n02098105-soft-coated_wheaten_terrier\n",
            "n02098286-West_Highland_white_terrier\n",
            "n02098413-Lhasa\n",
            "n02099267-flat-coated_retriever\n",
            "n02099429-curly-coated_retriever\n",
            "n02099601-golden_retriever\n",
            "n02099712-Labrador_retriever\n",
            "n02099849-Chesapeake_Bay_retriever\n",
            "n02100236-German_short-haired_pointer\n",
            "n02100583-vizsla\n",
            "n02100735-English_setter\n",
            "n02100877-Irish_setter\n",
            "n02101006-Gordon_setter\n",
            "n02101388-Brittany_spaniel\n",
            "n02101556-clumber\n",
            "n02102040-English_springer\n",
            "n02102177-Welsh_springer_spaniel\n",
            "n02102318-cocker_spaniel\n",
            "n02102480-Sussex_spaniel\n",
            "n02102973-Irish_water_spaniel\n",
            "n02104029-kuvasz\n",
            "n02104365-schipperke\n",
            "n02105056-groenendael\n",
            "n02105162-malinois\n",
            "n02105251-briard\n",
            "n02105412-kelpie\n",
            "n02105505-komondor\n",
            "n02105641-Old_English_sheepdog\n",
            "n02105855-Shetland_sheepdog\n",
            "n02106030-collie\n",
            "n02106166-Border_collie\n",
            "n02106382-Bouvier_des_Flandres\n",
            "n02106550-Rottweiler\n",
            "n02106662-German_shepherd\n",
            "n02107142-Doberman\n",
            "n02107312-miniature_pinscher\n",
            "n02107574-Greater_Swiss_Mountain_dog\n",
            "n02107683-Bernese_mountain_dog\n",
            "n02107908-Appenzeller\n",
            "n02108000-EntleBucher\n",
            "n02108089-boxer\n",
            "n02108422-bull_mastiff\n",
            "n02108551-Tibetan_mastiff\n",
            "n02108915-French_bulldog\n",
            "n02109047-Great_Dane\n",
            "n02109525-Saint_Bernard\n",
            "n02109961-Eskimo_dog\n",
            "n02110063-malamute\n",
            "n02110185-Siberian_husky\n",
            "n02110627-affenpinscher\n",
            "n02110806-basenji\n",
            "n02110958-pug\n",
            "n02111129-Leonberg\n",
            "n02111277-Newfoundland\n",
            "n02111500-Great_Pyrenees\n",
            "n02111889-Samoyed\n",
            "n02112018-Pomeranian\n",
            "n02112137-chow\n",
            "n02112350-keeshond\n",
            "n02112706-Brabancon_griffon\n",
            "n02113023-Pembroke\n",
            "n02113186-Cardigan\n",
            "n02113624-toy_poodle\n",
            "n02113712-miniature_poodle\n",
            "n02113799-standard_poodle\n",
            "n02113978-Mexican_hairless\n",
            "n02115641-dingo\n",
            "n02115913-dhole\n",
            "n02116738-African_hunting_dog"
          ],
          "name": "stdout"
        }
      ]
    },
    {
      "cell_type": "markdown",
      "metadata": {
        "id": "L269Id0Yc0kN"
      },
      "source": [
        "## Transfer Learning\n",
        "Base model from pre-trained convolutional networks\n",
        "- MobileNetV2"
      ]
    },
    {
      "cell_type": "code",
      "metadata": {
        "id": "YtbhNRN9j7vZ",
        "colab": {
          "base_uri": "https://localhost:8080/"
        },
        "outputId": "272a2691-29ae-446b-b2f6-1a63cd700f9e"
      },
      "source": [
        "IMG_SHAPE = (IMAGE_SIZE, IMAGE_SIZE, 3)    # <-- X-axis, Y-axis and Z-[corresponding to RGB]\n",
        "\n",
        "# Create the base model from the pre-trained model MobileNet V2\n",
        "base_model = tf.keras.applications.MobileNetV2(input_shape=IMG_SHAPE,\n",
        "                                              include_top=False, \n",
        "                                              weights='imagenet')"
      ],
      "execution_count": 11,
      "outputs": [
        {
          "output_type": "stream",
          "text": [
            "Downloading data from https://storage.googleapis.com/tensorflow/keras-applications/mobilenet_v2/mobilenet_v2_weights_tf_dim_ordering_tf_kernels_1.0_224_no_top.h5\n",
            "9412608/9406464 [==============================] - 0s 0us/step\n"
          ],
          "name": "stdout"
        }
      ]
    },
    {
      "cell_type": "code",
      "metadata": {
        "id": "8eaM0LZWkCjo"
      },
      "source": [
        "base_model.trainable = False    \n",
        "# setting the Trainable to false so that we don't mess up the pretrained weights"
      ],
      "execution_count": 12,
      "outputs": []
    },
    {
      "cell_type": "code",
      "metadata": {
        "id": "JkI54MX-kMCA"
      },
      "source": [
        ""
      ],
      "execution_count": null,
      "outputs": []
    },
    {
      "cell_type": "code",
      "metadata": {
        "id": "NBdnJpZCtMmR"
      },
      "source": [
        "model = tf.keras.Sequential([\n",
        "  base_model,\n",
        "  tf.keras.layers.Conv2D(32, 3, activation='relu'),\n",
        "  tf.keras.layers.Dropout(0.2),\n",
        "\n",
        "  tf.keras.layers.GlobalAveragePooling2D(),\n",
        "\n",
        "  tf.keras.layers.Dense(120, activation='softmax')\n",
        "])"
      ],
      "execution_count": 13,
      "outputs": []
    },
    {
      "cell_type": "code",
      "metadata": {
        "id": "JArCMPGYkOat"
      },
      "source": [
        "model.compile(optimizer=tf.keras.optimizers.Adam(), \n",
        "              loss='categorical_crossentropy', \n",
        "              metrics=['accuracy'])"
      ],
      "execution_count": 14,
      "outputs": []
    },
    {
      "cell_type": "code",
      "metadata": {
        "id": "Rt_zs1XpkRRy",
        "colab": {
          "base_uri": "https://localhost:8080/"
        },
        "outputId": "4ff5d360-a451-4562-b850-5d709c678e4a"
      },
      "source": [
        "model.summary()"
      ],
      "execution_count": 15,
      "outputs": [
        {
          "output_type": "stream",
          "text": [
            "Model: \"sequential\"\n",
            "_________________________________________________________________\n",
            "Layer (type)                 Output Shape              Param #   \n",
            "=================================================================\n",
            "mobilenetv2_1.00_224 (Functi (None, 7, 7, 1280)        2257984   \n",
            "_________________________________________________________________\n",
            "conv2d (Conv2D)              (None, 5, 5, 32)          368672    \n",
            "_________________________________________________________________\n",
            "dropout (Dropout)            (None, 5, 5, 32)          0         \n",
            "_________________________________________________________________\n",
            "global_average_pooling2d (Gl (None, 32)                0         \n",
            "_________________________________________________________________\n",
            "dense (Dense)                (None, 120)               3960      \n",
            "=================================================================\n",
            "Total params: 2,630,616\n",
            "Trainable params: 372,632\n",
            "Non-trainable params: 2,257,984\n",
            "_________________________________________________________________\n"
          ],
          "name": "stdout"
        }
      ]
    },
    {
      "cell_type": "code",
      "metadata": {
        "id": "6HQLUU_XkTSw",
        "colab": {
          "base_uri": "https://localhost:8080/"
        },
        "outputId": "1ecf368d-dbac-4b02-f8f1-a7e2d03e6f59"
      },
      "source": [
        "print('Number of trainable variables = {}'.format(len(model.trainable_variables)))"
      ],
      "execution_count": 16,
      "outputs": [
        {
          "output_type": "stream",
          "text": [
            "Number of trainable variables = 4\n"
          ],
          "name": "stdout"
        }
      ]
    },
    {
      "cell_type": "code",
      "metadata": {
        "id": "kBCgqRZaz_om"
      },
      "source": [
        "callbacks = [\n",
        "             tf.keras.callbacks.EarlyStopping(\n",
        "                 monitor='val_loss', patience = 15,\n",
        "                 min_delta=0.001\n",
        "             )\n",
        "]"
      ],
      "execution_count": null,
      "outputs": []
    },
    {
      "cell_type": "code",
      "metadata": {
        "id": "hauZBGdTkWbC",
        "colab": {
          "base_uri": "https://localhost:8080/"
        },
        "outputId": "39816dcd-9a83-4c95-9aa3-405458238685"
      },
      "source": [
        "%%time\n",
        "\n",
        "epochs = 55\n",
        "\n",
        "history = model.fit(train_generator,\n",
        "                    steps_per_epoch=len(train_generator), \n",
        "                    epochs=epochs, \n",
        "                    batch_size=32,\n",
        "                    callbacks=callbacks,\n",
        "                    validation_data=val_generator, \n",
        "                    validation_steps=len(val_generator))"
      ],
      "execution_count": null,
      "outputs": [
        {
          "output_type": "stream",
          "text": [
            "Epoch 1/55\n",
            " 16/259 [>.............................] - ETA: 1:53:13 - loss: 4.8856 - accuracy: 0.0089"
          ],
          "name": "stdout"
        }
      ]
    },
    {
      "cell_type": "code",
      "metadata": {
        "id": "Tajo4S3VwBdD"
      },
      "source": [
        ""
      ],
      "execution_count": null,
      "outputs": []
    },
    {
      "cell_type": "markdown",
      "metadata": {
        "id": "3k6ZzClndQAP"
      },
      "source": [
        "## Model Evaluation"
      ]
    },
    {
      "cell_type": "code",
      "metadata": {
        "id": "D3LdejBFkeYB"
      },
      "source": [
        "acc = history.history['accuracy']\n",
        "val_acc = history.history['val_accuracy']\n",
        "\n",
        "loss = history.history['loss']\n",
        "val_loss = history.history['val_loss']\n",
        "\n",
        "plt.figure(figsize=(8, 8))\n",
        "plt.subplot(2, 1, 1)\n",
        "plt.plot(acc, label='Training Accuracy')\n",
        "plt.plot(val_acc, label='Validation Accuracy')\n",
        "plt.legend(loc='lower right')\n",
        "plt.ylabel('Accuracy')\n",
        "plt.ylim([min(plt.ylim()),1])\n",
        "plt.title('Training and Validation Accuracy')\n",
        "\n",
        "plt.subplot(2, 1, 2)\n",
        "plt.plot(loss, label='Training Loss')\n",
        "plt.plot(val_loss, label='Validation Loss')\n",
        "plt.legend(loc='upper right')\n",
        "plt.ylabel('Cross Entropy')\n",
        "plt.ylim([0,1.0])\n",
        "plt.title('Training and Validation Loss')\n",
        "plt.xlabel('epoch')\n",
        "plt.show()"
      ],
      "execution_count": null,
      "outputs": []
    },
    {
      "cell_type": "markdown",
      "metadata": {
        "id": "py0TTrZ7da33"
      },
      "source": [
        "## Fine Tuning"
      ]
    },
    {
      "cell_type": "code",
      "metadata": {
        "id": "PD1q1QYYc45J"
      },
      "source": [
        "base_model.trainable = True"
      ],
      "execution_count": null,
      "outputs": []
    },
    {
      "cell_type": "code",
      "metadata": {
        "id": "GUdKME0JuMH-"
      },
      "source": [
        "# Let's take a look to see how many layers are in the base model\n",
        "print(\"Number of layers in the base model: \", len(base_model.layers))\n",
        "\n",
        "# Fine tune from this layer onwards\n",
        "fine_tune_at = 100\n",
        "\n",
        "# Freeze all the layers before the `fine_tune_at` layer\n",
        "for layer in base_model.layers[:fine_tune_at]:\n",
        "  layer.trainable =  False"
      ],
      "execution_count": null,
      "outputs": []
    },
    {
      "cell_type": "code",
      "metadata": {
        "id": "kZqmSb2GuODW"
      },
      "source": [
        "model.compile(loss='categorical_crossentropy',\n",
        "              optimizer = tf.keras.optimizers.Adam(1e-5),\n",
        "              metrics=['accuracy'])"
      ],
      "execution_count": null,
      "outputs": []
    },
    {
      "cell_type": "code",
      "metadata": {
        "id": "9BG2K50VuPcB"
      },
      "source": [
        "model.summary()"
      ],
      "execution_count": null,
      "outputs": []
    },
    {
      "cell_type": "code",
      "metadata": {
        "id": "6VlailYpuRV3"
      },
      "source": [
        "print('Number of trainable variables = {}'.format(len(model.trainable_variables)))"
      ],
      "execution_count": null,
      "outputs": []
    },
    {
      "cell_type": "code",
      "metadata": {
        "id": "8P0GfkJRuS8q"
      },
      "source": [
        "history_fine = model.fit(train_generator, \n",
        "                         steps_per_epoch=len(train_generator), \n",
        "                         epochs=50, \n",
        "                         validation_data=val_generator, \n",
        "                         validation_steps=len(val_generator))"
      ],
      "execution_count": null,
      "outputs": []
    },
    {
      "cell_type": "markdown",
      "metadata": {
        "id": "GZYcjYKkdhgn"
      },
      "source": [
        "## Convert to TFLite"
      ]
    },
    {
      "cell_type": "code",
      "metadata": {
        "id": "lwqDiP_1uUAq"
      },
      "source": [
        "saved_model_dir = 'save/fine_tuning'\n",
        "tf.saved_model.save(model, saved_model_dir)\n",
        "\n",
        "converter = tf.lite.TFLiteConverter.from_saved_model(saved_model_dir)\n",
        "tflite_model = converter.convert()\n",
        "\n",
        "with open('model.tflite', 'wb') as f:\n",
        "  f.write(tflite_model)"
      ],
      "execution_count": null,
      "outputs": []
    },
    {
      "cell_type": "code",
      "metadata": {
        "id": "Cha8Ucwf6LRp"
      },
      "source": [
        ""
      ],
      "execution_count": null,
      "outputs": []
    }
  ]
}